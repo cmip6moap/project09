{
 "cells": [
  {
   "cell_type": "code",
   "execution_count": 1,
   "id": "ec7f7727-0841-4a51-beef-e487d4ab5ae1",
   "metadata": {},
   "outputs": [],
   "source": [
    "import numpy as np\n",
    "import xarray as xr\n",
    "import matplotlib.pyplot as plt\n",
    "import cartopy.crs as ccrs\n",
    "import cartopy.feature as cf"
   ]
  },
  {
   "cell_type": "code",
   "execution_count": 2,
   "id": "9b5e944b-5835-45c2-814e-316cc714b857",
   "metadata": {},
   "outputs": [],
   "source": [
    "dsm_hist_monthly = xr.open_dataset('HadGEM3-GC31-LL_historical.nc').sel(time=slice('2007','2008'))\n",
    "dsm_s585_monthly = xr.open_dataset('HadGEM3-GC31-LL_ssp585.nc').sel(time=slice('2080','2099'))\n",
    "\n",
    "dsm_hist = dsm_hist_monthly.groupby('time.month').mean('time')\n",
    "dsm_s585 = dsm_s585_monthly.groupby('time.month').mean('time')\n",
    "\n",
    "minlon = -90\n",
    "maxlon = 170\n",
    "minlat = -85\n",
    "maxlat = 0\n",
    "\n",
    "southm_hist = dsm_hist.sel(month=[11,12,1,2,3,4], lon=slice(minlon,maxlon), lat=slice(minlat,maxlat)).mean(dim='month')"
   ]
  },
  {
   "cell_type": "code",
   "execution_count": null,
   "id": "1cf6c10f-1bbb-4efd-9b5f-f013b7221e4c",
   "metadata": {},
   "outputs": [],
   "source": [
    "fig = plt.figure(figsize=(12,12))\n",
    "gs = fig.add_gridspec(3, 1)\n",
    "\n",
    "projection=ccrs.Mercator(central_longitude=0.0, min_latitude=-72.5, max_latitude=-0.0)\n",
    "\n",
    "ax1 = fig.add_subplot(gs[0], projection=projection)\n",
    "ax2 = fig.add_subplot(gs[1], projection=projection)\n",
    "ax3 = fig.add_subplot(gs[2], projection=projection)\n",
    "\n",
    "for ax in [ax1,ax2,ax3]:\n",
    "    ax.set_extent([minlon, maxlon, minlat, maxlat], crs=ccrs.PlateCarree())\n",
    "    ax.coastlines(resolution='50m', color='k')\n",
    "    gl = ax.gridlines(color='lightgrey', linestyle='-', draw_labels=True)\n",
    "    gl.top_labels = False\n",
    "    gl.right_labels = False\n",
    "\n",
    "p1 = southm_cont.uas.plot.contourf(ax=ax1, x='lon', y='lat', add_colorbar=False, transform=ccrs.PlateCarree(), cmap='RdBu_r', vmin=-8, vmax=8, levels=9)\n",
    "p2 = southm_s585.uas.plot.contourf(ax=ax2, x='lon', y='lat', add_colorbar=False, transform=ccrs.PlateCarree(), cmap='RdBu_r', vmin=-8, vmax=8, levels=9)\n",
    "p3 = (southm_s585-southm_hist).uas.plot.pcolormesh(ax=ax3, x='lon', y='lat', add_colorbar=False, transform=ccrs.PlateCarree(), cmap='RdBu_r', center=0)\n",
    "\n",
    "ax1.set_title('Control')\n",
    "ax2.set_title('SSP585 (2080-2099)')\n",
    "ax3.set_title('Change')\n",
    "\n",
    "ax_cb = plt.axes([0.92, 0.5, 0.015, 0.25])\n",
    "ax_cb2 = plt.axes([0.92, 0.13, 0.015, 0.2])\n",
    "cb = plt.colorbar(p1,cax=ax_cb, orientation='vertical')\n",
    "cb2 = plt.colorbar(p3,cax=ax_cb2, orientation='vertical')\n",
    "cb.ax.set_ylabel(r'Average Zonal Wind (ms$^{-1})$')\n",
    "cb2.ax.set_ylabel(r'Zonal Wind Change (ms$^{-1})$')\n",
    "#ax.set_suptitle('Southern Ocean Surface Wind: November-April')\n",
    "#plt.savefig('southern_ocean_zonal_change.png')"
   ]
  }
 ],
 "metadata": {
  "kernelspec": {
   "display_name": "Python 3",
   "language": "python",
   "name": "python3"
  },
  "language_info": {
   "codemirror_mode": {
    "name": "ipython",
    "version": 3
   },
   "file_extension": ".py",
   "mimetype": "text/x-python",
   "name": "python",
   "nbconvert_exporter": "python",
   "pygments_lexer": "ipython3",
   "version": "3.8.2"
  }
 },
 "nbformat": 4,
 "nbformat_minor": 5
}
